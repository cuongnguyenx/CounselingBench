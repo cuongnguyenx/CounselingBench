{
 "cells": [
  {
   "cell_type": "code",
   "execution_count": 5,
   "metadata": {},
   "outputs": [],
   "source": [
    "import pandas as pd\n",
    "import numpy as np\n",
    "import os\n",
    "import scipy.stats as ss"
   ]
  },
  {
   "cell_type": "code",
   "execution_count": 6,
   "metadata": {},
   "outputs": [],
   "source": [
    "keys = ['faithfulness', 'informativeness_step', 'informativeness_chain', 'faithfulness_ww', 'repetiton_word', 'repetition_step', 'reasoning_alignment', 'external_hallucination', 'redundancy', 'common_sense_error', 'missing_step', 'semantic_coverage_step', 'semantic_coverage_chain',  'discourse_representation', 'coherence_step_vs_step', 'perplexity_step', 'perplexity_chain', 'perplexity_step_max', 'grammar_step', 'grammar_step_max']"
   ]
  },
  {
   "cell_type": "code",
   "execution_count": 7,
   "metadata": {},
   "outputs": [],
   "source": [
    "def generate_score_df(file_path):\n",
    "    with open(file_path, 'r') as file:\n",
    "        file_content_lines = file.readlines()\n",
    "    score_df = []\n",
    "    for idx, line in enumerate(file_content_lines):\n",
    "        curr_dict = dict([])\n",
    "        if idx == 0:\n",
    "            continue\n",
    "        line_s = line.split(' ')\n",
    "        line_s = [x for x in line_s if '.' in x]\n",
    "        line_s = [float(x) for x in line_s]\n",
    "        for idx, val in enumerate(line_s):\n",
    "            curr_dict[keys[idx]] = val\n",
    "        score_df.append(curr_dict)\n",
    "    score_dff = pd.DataFrame(score_df)\n",
    "    return score_dff"
   ]
  },
  {
   "cell_type": "code",
   "execution_count": 8,
   "metadata": {},
   "outputs": [
    {
     "name": "stdout",
     "output_type": "stream",
     "text": [
      "Llama_2_13b_hf_counselingqa.tsv\n",
      "llama2_7b_chat_counselingqa.tsv\n",
      "[Errno 2] No such file or directory: '../../../../../results/outputs_reasoning/llama2-7b-chat.csv'\n",
      "Asclepius_13B_counselingqa.tsv\n",
      "meditron_7b_counselingqa.tsv\n",
      "medalpaca_7b_counselingqa.tsv\n",
      "Llama_2_70b_chat_hf_counselingqa.tsv\n",
      "Asclepius_7B_counselingqa.tsv\n",
      "[Errno 2] No such file or directory: '../../../../../results/outputs_reasoning/Asclepius-7B.csv'\n",
      "Llama3_OpenBioLLM_70B_counselingqa.tsv\n",
      "meditron_70b_counselingqa.tsv\n",
      "Llama3_Med42_8B_counselingqa.tsv\n",
      "Llama_2_7b_hf_counselingqa.tsv\n",
      "BioMedGPT_LM_7B_counselingqa.tsv\n",
      "Meta_Llama_3_8B_Instruct_counselingqa.tsv\n",
      "Llama3_Med42_70B_counselingqa.tsv\n",
      "med42_70b_counselingqa.tsv\n",
      "counselingQA_gpt4o_counselingqa.tsv\n",
      "Llama3_OpenBioLLM_8B_counselingqa.tsv\n",
      "MentaLLaMA_chat_13B_counselingqa.tsv\n",
      "llama_2_7b_chat_hf_counselingqa.tsv\n",
      "ClinicalCamel_70B_counselingqa.tsv\n",
      "Llama_2_13b_chat_hf_counselingqa.tsv\n",
      "medalpaca_13b_counselingqa.tsv\n",
      "Llama_2_70b_hf_counselingqa.tsv\n",
      "Meta_Llama_3_70B_Instruct_counselingqa.tsv\n"
     ]
    }
   ],
   "source": [
    "for file in os.listdir('./'):\n",
    "    if 'counselingqa.tsv' in file:\n",
    "        dff = generate_score_df(file)\n",
    "        model_name = file.replace('scores_', '')\n",
    "        print(model_name)\n",
    "        model_name = model_name.replace('_counselingqa.tsv', '')\n",
    "        model_name = model_name.replace('_', '-')\n",
    "        try:\n",
    "            dfx = pd.read_csv(f'../../../../../results/outputs_reasoning/{model_name}.csv')\n",
    "            try:\n",
    "                xx = pd.read_csv(f'../../../../../results/outputs/{model_name}_few-shot-cot_None_1.csv')\n",
    "            except:\n",
    "                xx = pd.read_csv(f'../../../../../results/outputs/{model_name}_few-shot-cot_None_3.csv')\n",
    "            dfx = dfx[dfx['Question'].isin(xx['Question'])].reset_index()\n",
    "            dfx = dfx[dfx['Answers'].isin(xx['Answers'])].reset_index()\n",
    "            # dfx = dfx[~pd.isna(dfx['Explanation for correct answer'])]\n",
    "            final_df = pd.concat([dfx, dff], axis = 1)\n",
    "            final_df.to_csv(f'../../../../../results/outputs_reasoning_combined/{model_name}.csv')\n",
    "        except Exception as e:\n",
    "            print(e)\n",
    "            continue"
   ]
  },
  {
   "cell_type": "code",
   "execution_count": null,
   "metadata": {},
   "outputs": [],
   "source": []
  }
 ],
 "metadata": {
  "kernelspec": {
   "display_name": "Python 3",
   "language": "python",
   "name": "python3"
  },
  "language_info": {
   "codemirror_mode": {
    "name": "ipython",
    "version": 3
   },
   "file_extension": ".py",
   "mimetype": "text/x-python",
   "name": "python",
   "nbconvert_exporter": "python",
   "pygments_lexer": "ipython3",
   "version": "3.10.12"
  }
 },
 "nbformat": 4,
 "nbformat_minor": 2
}
