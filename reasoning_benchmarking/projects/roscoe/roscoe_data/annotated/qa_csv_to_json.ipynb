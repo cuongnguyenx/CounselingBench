{
 "cells": [
  {
   "cell_type": "code",
   "execution_count": 1,
   "metadata": {},
   "outputs": [],
   "source": [
    "import pandas as pd\n",
    "from nltk.tokenize import sent_tokenize"
   ]
  },
  {
   "cell_type": "code",
   "execution_count": 2,
   "metadata": {},
   "outputs": [],
   "source": [
    "def preprocess_dataframe(df):\n",
    "    # print(df.shape[0])\n",
    "    df['raw_pred'].fillna(\"No answer\", inplace=True)\n",
    "    df['raw_pred'] = [x.replace(\"\\\\n\", \"\") for x in df['raw_pred']]\n",
    "    df['raw_pred'] = [x[:x.find('### USER:')] if '### USER:' in x else x for x in df['raw_pred']]\n",
    "    df['Explanation for correct answer'].fillna(\"\", inplace=True)\n",
    "    df['Explanation for correct answer'] = [x.replace(\"Explanation: \", \"\") for x in df['Explanation for correct answer']]\n",
    "    df['raw_pred'] = [x.replace(\"Explanation: \", \"\") for x in df['raw_pred']]\n",
    "    df['raw_pred'] = [x.strip() for x in df['raw_pred']]\n",
    "    df['raw_pred'] = [x.replace(\"\\n\", \" \") for x in df['raw_pred']]\n",
    "    # df['raw_pred'] = [x[:x.find(\"\\n\") + 1] for x in df['raw_pred']]\n",
    "    # print(df.shape[0])\n",
    "\n",
    "    raw_preds = []\n",
    "    true_preds = []\n",
    "    for idx, row in enumerate(df.iterrows()):\n",
    "        sentences_raw = sent_tokenize(row[1]['raw_pred'])\n",
    "        \n",
    "        sentences_true = sent_tokenize(row[1]['Explanation for correct answer'])\n",
    "        if len(sentences_true) == 0:\n",
    "            sentences_true.append('')\n",
    "        if len(sentences_raw) == 0:\n",
    "            sentences_raw.append('')\n",
    "        sentences_raw = [x.replace(\".\", \"\") for x in sentences_raw]\n",
    "        sentences_raw = [x.replace(\"(A\", \"(A)\") for x in sentences_raw]\n",
    "        sentences_raw = [x.replace(\"(B\", \"(B)\") for x in sentences_raw]\n",
    "        sentences_raw = [x.replace(\"(C\", \"(C)\") for x in sentences_raw]\n",
    "        sentences_raw = [x.replace(\"(D\", \"(D)\") for x in sentences_raw]\n",
    "        sentences_raw = [x.replace(\"))\", \")\") for x in sentences_raw]\n",
    "        sentences_true = [x.replace(\".\", \"\") for x in sentences_true]\n",
    "\n",
    "        if '(A)' in sentences_raw[0] or '(B)' in sentences_raw[0] or '(C)' in sentences_raw[0] or '(D)' in sentences_raw[0]:\n",
    "            sentences_raw = sentences_raw[1: ] + [sentences_raw[0]]\n",
    "\n",
    "        if '(A)' not in sentences_raw[-1] and '(B)' not in sentences_raw[-1] and '(C)' not in sentences_raw[-1] and '(D)' not in sentences_raw[-1]:\n",
    "            pass\n",
    "            # print(idx)\n",
    "            # print('. '.join(sentences_raw))\n",
    "        try:\n",
    "            if '(A)' in sentences_true[0] or '(B)' in sentences_true[0] or '(C)' in sentences_true[0] or '(D)' in sentences_true[0]:\n",
    "                sentences_true = sentences_true[1: ] + [sentences_true[0]]\n",
    "        except Exception as e:\n",
    "            print(idx)\n",
    "            print(sentences_true)\n",
    "            pass\n",
    "        try:\n",
    "            if '(A)' not in sentences_true[-1] and '(B)' not in sentences_true[-1] and '(C)' not in sentences_true[-1] and '(D)' not in sentences_true[-1]:\n",
    "                sentences_true = sentences_true + [f\"Therefore, the correct answer is ({row[1]['correct_answer_letter']})\"]\n",
    "        except Exception as e:\n",
    "            print(sentences_true)\n",
    "            pass\n",
    "        raw_preds.append('. '.join(sentences_raw))\n",
    "        true_preds.append('. '.join(sentences_true))\n",
    "    df['raw_pred'] = raw_preds\n",
    "    df['Explanation for correct answer'] = true_preds\n",
    "    return df  \n"
   ]
  },
  {
   "cell_type": "code",
   "execution_count": 3,
   "metadata": {},
   "outputs": [
    {
     "data": {
      "text/plain": [
       "['BioMedGPT-LM-7B_few-shot-cot_None_3.csv',\n",
       " 'Mistral-7B-Instruct-v0.3_few-shot-cot_None_1.csv',\n",
       " 'gsm8k.csv',\n",
       " 'meditron-70b_few-shot-cot_None_1.csv',\n",
       " 'Asclepius-7B_few-shot-cot_None_3.csv',\n",
       " 'ClinicalCamel-70B_few-shot-cot_None_3.csv',\n",
       " 'drop.csv',\n",
       " 'Meta-Llama-3-8B-Instruct_few-shot-cot_None_1.csv',\n",
       " 'Llama-2-70b-hf_few-shot-cot_None_1.csv',\n",
       " 'ClinicalCamel-70B_few-shot-cot_None_1.csv',\n",
       " 'MentaLLaMA-chat-13B_few-shot-cot_None_3.csv',\n",
       " 'llama-2-7b-chat-hf_few-shot-cot_None_1.csv',\n",
       " 'Llama3-OpenBioLLM-8B_few-shot-cot_None_3.csv',\n",
       " 'Llama3-Med42-70B_few-shot-cot_None_1.csv',\n",
       " 'Meta-Llama-3-70B-Instruct_few-shot-cot_None_1.csv',\n",
       " 'Llama-2-70b-hf_few-shot-cot_None_3.csv',\n",
       " 'cosmos.csv',\n",
       " 'Llama-2-13b-hf_few-shot-cot_None_1.csv',\n",
       " 'qa_csv_to_json.ipynb',\n",
       " 'medalpaca-13b_few-shot-cot_None_3.csv',\n",
       " 'medalpaca-7b_few-shot-cot_None_1.csv',\n",
       " 'MentaLLaMA-chat-13B_few-shot-cot_None_1.csv',\n",
       " 'Asclepius-13B_few-shot-cot_None_3.csv',\n",
       " 'Llama-2-13b-chat-hf_few-shot-cot_None_1.csv',\n",
       " 'counselingQA-gpt4o_few-shot-cot_None_3.csv',\n",
       " 'counselingQA-gpt4o_few-shot-cot_None_1.csv',\n",
       " 'meditron-7b_few-shot-cot_None_1.csv',\n",
       " 'medalpaca-7b_few-shot-cot_None_3.csv',\n",
       " 'Llama3-OpenBioLLM-70B_few-shot-cot_None_3.csv',\n",
       " 'Asclepius-Llama3-8B_few-shot-cot_None_3.csv',\n",
       " 'Llama-2-7b-hf_few-shot-cot_None_1.csv',\n",
       " 'med42-70b_few-shot-cot_None_1.csv',\n",
       " 'esnli.csv',\n",
       " 'Llama3-Med42-8B_few-shot-cot_None_3.csv',\n",
       " 'medalpaca-13b_few-shot-cot_None_1.csv',\n",
       " 'BioMedGPT-LM-7B_few-shot-cot_None_1.csv',\n",
       " 'Llama3-Med42-70B_few-shot-cot_None_3.csv',\n",
       " 'Llama-2-70b-chat-hf_few-shot-cot_None_1.csv',\n",
       " 'Llama3-Med42-8B_few-shot-cot_None_1.csv']"
      ]
     },
     "execution_count": 3,
     "metadata": {},
     "output_type": "execute_result"
    }
   ],
   "source": [
    "import os\n",
    "os.listdir('./')"
   ]
  },
  {
   "cell_type": "code",
   "execution_count": 4,
   "metadata": {},
   "outputs": [
    {
     "name": "stdout",
     "output_type": "stream",
     "text": [
      "1612\n"
     ]
    },
    {
     "name": "stderr",
     "output_type": "stream",
     "text": [
      "/tmp/ipykernel_2480001/776435414.py:3: FutureWarning: A value is trying to be set on a copy of a DataFrame or Series through chained assignment using an inplace method.\n",
      "The behavior will change in pandas 3.0. This inplace method will never work because the intermediate object on which we are setting values always behaves as a copy.\n",
      "\n",
      "For example, when doing 'df[col].method(value, inplace=True)', try using 'df.method({col: value}, inplace=True)' or df[col] = df[col].method(value) instead, to perform the operation inplace on the original object.\n",
      "\n",
      "\n",
      "  df['raw_pred'].fillna(\"No answer\", inplace=True)\n",
      "/tmp/ipykernel_2480001/776435414.py:6: FutureWarning: A value is trying to be set on a copy of a DataFrame or Series through chained assignment using an inplace method.\n",
      "The behavior will change in pandas 3.0. This inplace method will never work because the intermediate object on which we are setting values always behaves as a copy.\n",
      "\n",
      "For example, when doing 'df[col].method(value, inplace=True)', try using 'df.method({col: value}, inplace=True)' or df[col] = df[col].method(value) instead, to perform the operation inplace on the original object.\n",
      "\n",
      "\n",
      "  df['Explanation for correct answer'].fillna(\"\", inplace=True)\n"
     ]
    },
    {
     "name": "stdout",
     "output_type": "stream",
     "text": [
      "5\n",
      "1612\n"
     ]
    },
    {
     "name": "stderr",
     "output_type": "stream",
     "text": [
      "/tmp/ipykernel_2480001/776435414.py:3: FutureWarning: A value is trying to be set on a copy of a DataFrame or Series through chained assignment using an inplace method.\n",
      "The behavior will change in pandas 3.0. This inplace method will never work because the intermediate object on which we are setting values always behaves as a copy.\n",
      "\n",
      "For example, when doing 'df[col].method(value, inplace=True)', try using 'df.method({col: value}, inplace=True)' or df[col] = df[col].method(value) instead, to perform the operation inplace on the original object.\n",
      "\n",
      "\n",
      "  df['raw_pred'].fillna(\"No answer\", inplace=True)\n",
      "/tmp/ipykernel_2480001/776435414.py:6: FutureWarning: A value is trying to be set on a copy of a DataFrame or Series through chained assignment using an inplace method.\n",
      "The behavior will change in pandas 3.0. This inplace method will never work because the intermediate object on which we are setting values always behaves as a copy.\n",
      "\n",
      "For example, when doing 'df[col].method(value, inplace=True)', try using 'df.method({col: value}, inplace=True)' or df[col] = df[col].method(value) instead, to perform the operation inplace on the original object.\n",
      "\n",
      "\n",
      "  df['Explanation for correct answer'].fillna(\"\", inplace=True)\n",
      "/tmp/ipykernel_2480001/776435414.py:3: FutureWarning: A value is trying to be set on a copy of a DataFrame or Series through chained assignment using an inplace method.\n",
      "The behavior will change in pandas 3.0. This inplace method will never work because the intermediate object on which we are setting values always behaves as a copy.\n",
      "\n",
      "For example, when doing 'df[col].method(value, inplace=True)', try using 'df.method({col: value}, inplace=True)' or df[col] = df[col].method(value) instead, to perform the operation inplace on the original object.\n",
      "\n",
      "\n",
      "  df['raw_pred'].fillna(\"No answer\", inplace=True)\n",
      "/tmp/ipykernel_2480001/776435414.py:6: FutureWarning: A value is trying to be set on a copy of a DataFrame or Series through chained assignment using an inplace method.\n",
      "The behavior will change in pandas 3.0. This inplace method will never work because the intermediate object on which we are setting values always behaves as a copy.\n",
      "\n",
      "For example, when doing 'df[col].method(value, inplace=True)', try using 'df.method({col: value}, inplace=True)' or df[col] = df[col].method(value) instead, to perform the operation inplace on the original object.\n",
      "\n",
      "\n",
      "  df['Explanation for correct answer'].fillna(\"\", inplace=True)\n"
     ]
    },
    {
     "name": "stdout",
     "output_type": "stream",
     "text": [
      "1612\n"
     ]
    },
    {
     "name": "stderr",
     "output_type": "stream",
     "text": [
      "/tmp/ipykernel_2480001/776435414.py:3: FutureWarning: A value is trying to be set on a copy of a DataFrame or Series through chained assignment using an inplace method.\n",
      "The behavior will change in pandas 3.0. This inplace method will never work because the intermediate object on which we are setting values always behaves as a copy.\n",
      "\n",
      "For example, when doing 'df[col].method(value, inplace=True)', try using 'df.method({col: value}, inplace=True)' or df[col] = df[col].method(value) instead, to perform the operation inplace on the original object.\n",
      "\n",
      "\n",
      "  df['raw_pred'].fillna(\"No answer\", inplace=True)\n",
      "/tmp/ipykernel_2480001/776435414.py:6: FutureWarning: A value is trying to be set on a copy of a DataFrame or Series through chained assignment using an inplace method.\n",
      "The behavior will change in pandas 3.0. This inplace method will never work because the intermediate object on which we are setting values always behaves as a copy.\n",
      "\n",
      "For example, when doing 'df[col].method(value, inplace=True)', try using 'df.method({col: value}, inplace=True)' or df[col] = df[col].method(value) instead, to perform the operation inplace on the original object.\n",
      "\n",
      "\n",
      "  df['Explanation for correct answer'].fillna(\"\", inplace=True)\n"
     ]
    },
    {
     "name": "stdout",
     "output_type": "stream",
     "text": [
      "1612\n"
     ]
    },
    {
     "name": "stderr",
     "output_type": "stream",
     "text": [
      "/tmp/ipykernel_2480001/776435414.py:3: FutureWarning: A value is trying to be set on a copy of a DataFrame or Series through chained assignment using an inplace method.\n",
      "The behavior will change in pandas 3.0. This inplace method will never work because the intermediate object on which we are setting values always behaves as a copy.\n",
      "\n",
      "For example, when doing 'df[col].method(value, inplace=True)', try using 'df.method({col: value}, inplace=True)' or df[col] = df[col].method(value) instead, to perform the operation inplace on the original object.\n",
      "\n",
      "\n",
      "  df['raw_pred'].fillna(\"No answer\", inplace=True)\n",
      "/tmp/ipykernel_2480001/776435414.py:6: FutureWarning: A value is trying to be set on a copy of a DataFrame or Series through chained assignment using an inplace method.\n",
      "The behavior will change in pandas 3.0. This inplace method will never work because the intermediate object on which we are setting values always behaves as a copy.\n",
      "\n",
      "For example, when doing 'df[col].method(value, inplace=True)', try using 'df.method({col: value}, inplace=True)' or df[col] = df[col].method(value) instead, to perform the operation inplace on the original object.\n",
      "\n",
      "\n",
      "  df['Explanation for correct answer'].fillna(\"\", inplace=True)\n"
     ]
    },
    {
     "name": "stdout",
     "output_type": "stream",
     "text": [
      "1612\n"
     ]
    },
    {
     "name": "stderr",
     "output_type": "stream",
     "text": [
      "/tmp/ipykernel_2480001/776435414.py:3: FutureWarning: A value is trying to be set on a copy of a DataFrame or Series through chained assignment using an inplace method.\n",
      "The behavior will change in pandas 3.0. This inplace method will never work because the intermediate object on which we are setting values always behaves as a copy.\n",
      "\n",
      "For example, when doing 'df[col].method(value, inplace=True)', try using 'df.method({col: value}, inplace=True)' or df[col] = df[col].method(value) instead, to perform the operation inplace on the original object.\n",
      "\n",
      "\n",
      "  df['raw_pred'].fillna(\"No answer\", inplace=True)\n",
      "/tmp/ipykernel_2480001/776435414.py:6: FutureWarning: A value is trying to be set on a copy of a DataFrame or Series through chained assignment using an inplace method.\n",
      "The behavior will change in pandas 3.0. This inplace method will never work because the intermediate object on which we are setting values always behaves as a copy.\n",
      "\n",
      "For example, when doing 'df[col].method(value, inplace=True)', try using 'df.method({col: value}, inplace=True)' or df[col] = df[col].method(value) instead, to perform the operation inplace on the original object.\n",
      "\n",
      "\n",
      "  df['Explanation for correct answer'].fillna(\"\", inplace=True)\n"
     ]
    },
    {
     "name": "stdout",
     "output_type": "stream",
     "text": [
      "1612\n"
     ]
    },
    {
     "name": "stderr",
     "output_type": "stream",
     "text": [
      "/tmp/ipykernel_2480001/776435414.py:3: FutureWarning: A value is trying to be set on a copy of a DataFrame or Series through chained assignment using an inplace method.\n",
      "The behavior will change in pandas 3.0. This inplace method will never work because the intermediate object on which we are setting values always behaves as a copy.\n",
      "\n",
      "For example, when doing 'df[col].method(value, inplace=True)', try using 'df.method({col: value}, inplace=True)' or df[col] = df[col].method(value) instead, to perform the operation inplace on the original object.\n",
      "\n",
      "\n",
      "  df['raw_pred'].fillna(\"No answer\", inplace=True)\n",
      "/tmp/ipykernel_2480001/776435414.py:6: FutureWarning: A value is trying to be set on a copy of a DataFrame or Series through chained assignment using an inplace method.\n",
      "The behavior will change in pandas 3.0. This inplace method will never work because the intermediate object on which we are setting values always behaves as a copy.\n",
      "\n",
      "For example, when doing 'df[col].method(value, inplace=True)', try using 'df.method({col: value}, inplace=True)' or df[col] = df[col].method(value) instead, to perform the operation inplace on the original object.\n",
      "\n",
      "\n",
      "  df['Explanation for correct answer'].fillna(\"\", inplace=True)\n"
     ]
    },
    {
     "name": "stdout",
     "output_type": "stream",
     "text": [
      "1612\n"
     ]
    },
    {
     "name": "stderr",
     "output_type": "stream",
     "text": [
      "/tmp/ipykernel_2480001/776435414.py:3: FutureWarning: A value is trying to be set on a copy of a DataFrame or Series through chained assignment using an inplace method.\n",
      "The behavior will change in pandas 3.0. This inplace method will never work because the intermediate object on which we are setting values always behaves as a copy.\n",
      "\n",
      "For example, when doing 'df[col].method(value, inplace=True)', try using 'df.method({col: value}, inplace=True)' or df[col] = df[col].method(value) instead, to perform the operation inplace on the original object.\n",
      "\n",
      "\n",
      "  df['raw_pred'].fillna(\"No answer\", inplace=True)\n",
      "/tmp/ipykernel_2480001/776435414.py:6: FutureWarning: A value is trying to be set on a copy of a DataFrame or Series through chained assignment using an inplace method.\n",
      "The behavior will change in pandas 3.0. This inplace method will never work because the intermediate object on which we are setting values always behaves as a copy.\n",
      "\n",
      "For example, when doing 'df[col].method(value, inplace=True)', try using 'df.method({col: value}, inplace=True)' or df[col] = df[col].method(value) instead, to perform the operation inplace on the original object.\n",
      "\n",
      "\n",
      "  df['Explanation for correct answer'].fillna(\"\", inplace=True)\n"
     ]
    },
    {
     "name": "stdout",
     "output_type": "stream",
     "text": [
      "1621\n"
     ]
    },
    {
     "name": "stderr",
     "output_type": "stream",
     "text": [
      "/tmp/ipykernel_2480001/776435414.py:3: FutureWarning: A value is trying to be set on a copy of a DataFrame or Series through chained assignment using an inplace method.\n",
      "The behavior will change in pandas 3.0. This inplace method will never work because the intermediate object on which we are setting values always behaves as a copy.\n",
      "\n",
      "For example, when doing 'df[col].method(value, inplace=True)', try using 'df.method({col: value}, inplace=True)' or df[col] = df[col].method(value) instead, to perform the operation inplace on the original object.\n",
      "\n",
      "\n",
      "  df['raw_pred'].fillna(\"No answer\", inplace=True)\n",
      "/tmp/ipykernel_2480001/776435414.py:6: FutureWarning: A value is trying to be set on a copy of a DataFrame or Series through chained assignment using an inplace method.\n",
      "The behavior will change in pandas 3.0. This inplace method will never work because the intermediate object on which we are setting values always behaves as a copy.\n",
      "\n",
      "For example, when doing 'df[col].method(value, inplace=True)', try using 'df.method({col: value}, inplace=True)' or df[col] = df[col].method(value) instead, to perform the operation inplace on the original object.\n",
      "\n",
      "\n",
      "  df['Explanation for correct answer'].fillna(\"\", inplace=True)\n"
     ]
    },
    {
     "name": "stdout",
     "output_type": "stream",
     "text": [
      "1612\n"
     ]
    },
    {
     "name": "stderr",
     "output_type": "stream",
     "text": [
      "/tmp/ipykernel_2480001/776435414.py:3: FutureWarning: A value is trying to be set on a copy of a DataFrame or Series through chained assignment using an inplace method.\n",
      "The behavior will change in pandas 3.0. This inplace method will never work because the intermediate object on which we are setting values always behaves as a copy.\n",
      "\n",
      "For example, when doing 'df[col].method(value, inplace=True)', try using 'df.method({col: value}, inplace=True)' or df[col] = df[col].method(value) instead, to perform the operation inplace on the original object.\n",
      "\n",
      "\n",
      "  df['raw_pred'].fillna(\"No answer\", inplace=True)\n",
      "/tmp/ipykernel_2480001/776435414.py:6: FutureWarning: A value is trying to be set on a copy of a DataFrame or Series through chained assignment using an inplace method.\n",
      "The behavior will change in pandas 3.0. This inplace method will never work because the intermediate object on which we are setting values always behaves as a copy.\n",
      "\n",
      "For example, when doing 'df[col].method(value, inplace=True)', try using 'df.method({col: value}, inplace=True)' or df[col] = df[col].method(value) instead, to perform the operation inplace on the original object.\n",
      "\n",
      "\n",
      "  df['Explanation for correct answer'].fillna(\"\", inplace=True)\n"
     ]
    },
    {
     "name": "stdout",
     "output_type": "stream",
     "text": [
      "1612\n"
     ]
    },
    {
     "name": "stderr",
     "output_type": "stream",
     "text": [
      "/tmp/ipykernel_2480001/776435414.py:3: FutureWarning: A value is trying to be set on a copy of a DataFrame or Series through chained assignment using an inplace method.\n",
      "The behavior will change in pandas 3.0. This inplace method will never work because the intermediate object on which we are setting values always behaves as a copy.\n",
      "\n",
      "For example, when doing 'df[col].method(value, inplace=True)', try using 'df.method({col: value}, inplace=True)' or df[col] = df[col].method(value) instead, to perform the operation inplace on the original object.\n",
      "\n",
      "\n",
      "  df['raw_pred'].fillna(\"No answer\", inplace=True)\n",
      "/tmp/ipykernel_2480001/776435414.py:6: FutureWarning: A value is trying to be set on a copy of a DataFrame or Series through chained assignment using an inplace method.\n",
      "The behavior will change in pandas 3.0. This inplace method will never work because the intermediate object on which we are setting values always behaves as a copy.\n",
      "\n",
      "For example, when doing 'df[col].method(value, inplace=True)', try using 'df.method({col: value}, inplace=True)' or df[col] = df[col].method(value) instead, to perform the operation inplace on the original object.\n",
      "\n",
      "\n",
      "  df['Explanation for correct answer'].fillna(\"\", inplace=True)\n"
     ]
    },
    {
     "name": "stdout",
     "output_type": "stream",
     "text": [
      "1612\n"
     ]
    },
    {
     "name": "stderr",
     "output_type": "stream",
     "text": [
      "/tmp/ipykernel_2480001/776435414.py:3: FutureWarning: A value is trying to be set on a copy of a DataFrame or Series through chained assignment using an inplace method.\n",
      "The behavior will change in pandas 3.0. This inplace method will never work because the intermediate object on which we are setting values always behaves as a copy.\n",
      "\n",
      "For example, when doing 'df[col].method(value, inplace=True)', try using 'df.method({col: value}, inplace=True)' or df[col] = df[col].method(value) instead, to perform the operation inplace on the original object.\n",
      "\n",
      "\n",
      "  df['raw_pred'].fillna(\"No answer\", inplace=True)\n",
      "/tmp/ipykernel_2480001/776435414.py:6: FutureWarning: A value is trying to be set on a copy of a DataFrame or Series through chained assignment using an inplace method.\n",
      "The behavior will change in pandas 3.0. This inplace method will never work because the intermediate object on which we are setting values always behaves as a copy.\n",
      "\n",
      "For example, when doing 'df[col].method(value, inplace=True)', try using 'df.method({col: value}, inplace=True)' or df[col] = df[col].method(value) instead, to perform the operation inplace on the original object.\n",
      "\n",
      "\n",
      "  df['Explanation for correct answer'].fillna(\"\", inplace=True)\n"
     ]
    },
    {
     "name": "stdout",
     "output_type": "stream",
     "text": [
      "1612\n"
     ]
    },
    {
     "name": "stderr",
     "output_type": "stream",
     "text": [
      "/tmp/ipykernel_2480001/776435414.py:3: FutureWarning: A value is trying to be set on a copy of a DataFrame or Series through chained assignment using an inplace method.\n",
      "The behavior will change in pandas 3.0. This inplace method will never work because the intermediate object on which we are setting values always behaves as a copy.\n",
      "\n",
      "For example, when doing 'df[col].method(value, inplace=True)', try using 'df.method({col: value}, inplace=True)' or df[col] = df[col].method(value) instead, to perform the operation inplace on the original object.\n",
      "\n",
      "\n",
      "  df['raw_pred'].fillna(\"No answer\", inplace=True)\n",
      "/tmp/ipykernel_2480001/776435414.py:6: FutureWarning: A value is trying to be set on a copy of a DataFrame or Series through chained assignment using an inplace method.\n",
      "The behavior will change in pandas 3.0. This inplace method will never work because the intermediate object on which we are setting values always behaves as a copy.\n",
      "\n",
      "For example, when doing 'df[col].method(value, inplace=True)', try using 'df.method({col: value}, inplace=True)' or df[col] = df[col].method(value) instead, to perform the operation inplace on the original object.\n",
      "\n",
      "\n",
      "  df['Explanation for correct answer'].fillna(\"\", inplace=True)\n"
     ]
    },
    {
     "name": "stdout",
     "output_type": "stream",
     "text": [
      "1612\n"
     ]
    },
    {
     "name": "stderr",
     "output_type": "stream",
     "text": [
      "/tmp/ipykernel_2480001/776435414.py:3: FutureWarning: A value is trying to be set on a copy of a DataFrame or Series through chained assignment using an inplace method.\n",
      "The behavior will change in pandas 3.0. This inplace method will never work because the intermediate object on which we are setting values always behaves as a copy.\n",
      "\n",
      "For example, when doing 'df[col].method(value, inplace=True)', try using 'df.method({col: value}, inplace=True)' or df[col] = df[col].method(value) instead, to perform the operation inplace on the original object.\n",
      "\n",
      "\n",
      "  df['raw_pred'].fillna(\"No answer\", inplace=True)\n",
      "/tmp/ipykernel_2480001/776435414.py:6: FutureWarning: A value is trying to be set on a copy of a DataFrame or Series through chained assignment using an inplace method.\n",
      "The behavior will change in pandas 3.0. This inplace method will never work because the intermediate object on which we are setting values always behaves as a copy.\n",
      "\n",
      "For example, when doing 'df[col].method(value, inplace=True)', try using 'df.method({col: value}, inplace=True)' or df[col] = df[col].method(value) instead, to perform the operation inplace on the original object.\n",
      "\n",
      "\n",
      "  df['Explanation for correct answer'].fillna(\"\", inplace=True)\n"
     ]
    }
   ],
   "source": [
    "for file in os.listdir('./'):\n",
    "    if 'few-shot-cot_None_3' in file:\n",
    "        model = file[:file.find('_')]\n",
    "        model = model.replace('-', '_')\n",
    "        df = pd.read_csv(os.path.join('.', file))\n",
    "        print(df.shape[0])\n",
    "        df = preprocess_dataframe(df)\n",
    "        df = df.fillna(\"\")\n",
    "        dicts_to_json = []\n",
    "        for row in df.iterrows():\n",
    "            curr_dict = dict([])\n",
    "            curr_dict['context'] = row[1]['Patient Demographic'] + \" \" + row[1]['Mental Status Exam'] + \" \" + row[1]['Presenting Problem'] + \" \" + row[1]['Other Contexts']\n",
    "            curr_dict['hypothesis'] = row[1]['raw_pred']\n",
    "            curr_dict['reference'] = row[1]['Explanation for correct answer']\n",
    "            dicts_to_json.append(curr_dict)\n",
    "        dfx = pd.DataFrame(dicts_to_json)\n",
    "        dfx.to_json(f'../generated/{model}_counselingqa.json', index=False, lines=True, orient=\"records\")"
   ]
  },
  {
   "cell_type": "code",
   "execution_count": null,
   "metadata": {},
   "outputs": [],
   "source": []
  }
 ],
 "metadata": {
  "kernelspec": {
   "display_name": "Python 3",
   "language": "python",
   "name": "python3"
  },
  "language_info": {
   "codemirror_mode": {
    "name": "ipython",
    "version": 3
   },
   "file_extension": ".py",
   "mimetype": "text/x-python",
   "name": "python",
   "nbconvert_exporter": "python",
   "pygments_lexer": "ipython3",
   "version": "3.10.12"
  }
 },
 "nbformat": 4,
 "nbformat_minor": 2
}
