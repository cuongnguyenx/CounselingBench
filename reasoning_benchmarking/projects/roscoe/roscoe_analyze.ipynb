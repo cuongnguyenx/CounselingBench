{
 "cells": [
  {
   "cell_type": "code",
   "execution_count": 1,
   "metadata": {},
   "outputs": [
    {
     "name": "stderr",
     "output_type": "stream",
     "text": [
      "/nethome/cnguyen319/.local/lib/python3.10/site-packages/sentence_transformers/cross_encoder/CrossEncoder.py:11: TqdmExperimentalWarning: Using `tqdm.autonotebook.tqdm` in notebook mode. Use `tqdm.tqdm` instead to force console mode (e.g. in jupyter console)\n",
      "  from tqdm.autonotebook import tqdm, trange\n"
     ]
    }
   ],
   "source": [
    "import pandas as pd\n",
    "import numpy as np\n",
    "from sentence_transformers import SentenceTransformer\n",
    "from typing import Callable, Dict, Iterable, List, Tuple"
   ]
  },
  {
   "cell_type": "code",
   "execution_count": 19,
   "metadata": {},
   "outputs": [],
   "source": [
    "model = SentenceTransformer(\"all-mpnet-base-v2\")"
   ]
  },
  {
   "cell_type": "code",
   "execution_count": 20,
   "metadata": {},
   "outputs": [],
   "source": [
    "str_a = \"When discussing the client's concerns and presentation during intake, it would be best to discuss suicidal ideation first.\"\n",
    "str_b = \"I hate you\""
   ]
  },
  {
   "cell_type": "code",
   "execution_count": 21,
   "metadata": {},
   "outputs": [],
   "source": [
    "emb_a = model.encode(str_a)\n",
    "emb_b = model.encode(str_b)"
   ]
  },
  {
   "cell_type": "code",
   "execution_count": 22,
   "metadata": {},
   "outputs": [],
   "source": [
    "def cosine_similarity_scaled(list1: np.ndarray, list2: np.ndarray) -> float:\n",
    "    \"\"\"\n",
    "    Normalized cosine similarity for *normalized* embeddings.\n",
    "\n",
    "    Normalized cosine similarity takes values from [0;1]\n",
    "    \"\"\"\n",
    "    cosine_sim = np.dot(list1, list2) / (np.linalg.norm(list1) * np.linalg.norm(list2))\n",
    "    return (1.0 + cosine_sim) / 2.0\n",
    "\n",
    "\n",
    "def embedding_alignment(ref_emb: np.ndarray, hypo_emb: np.ndarray) -> List[float]:\n",
    "    \"\"\"\n",
    "    Return embedding matching alignment for each item in hypo_emb\n",
    "    ref_emb: list of reference embeddings\n",
    "    hypo_emb: list oh hypothesises embeddings\n",
    "    \"\"\"\n",
    "    scores = []\n",
    "    for he in hypo_emb:\n",
    "        # some embeddings can be empty. For example, for latex-style equations, or empty string\n",
    "        if len(he) > 0:\n",
    "            out = [cosine_similarity_scaled(he, re) for re in ref_emb if len(re) > 0]\n",
    "            if len(out) > 0:\n",
    "                \n",
    "                scores.append(max(out))\n",
    "    return scores"
   ]
  },
  {
   "cell_type": "code",
   "execution_count": 23,
   "metadata": {},
   "outputs": [
    {
     "data": {
      "text/plain": [
       "0.53459033370018"
      ]
     },
     "execution_count": 23,
     "metadata": {},
     "output_type": "execute_result"
    }
   ],
   "source": [
    "cosine_similarity_scaled(emb_a, emb_b)"
   ]
  },
  {
   "cell_type": "code",
   "execution_count": null,
   "metadata": {},
   "outputs": [],
   "source": []
  }
 ],
 "metadata": {
  "kernelspec": {
   "display_name": "Python 3",
   "language": "python",
   "name": "python3"
  },
  "language_info": {
   "codemirror_mode": {
    "name": "ipython",
    "version": 3
   },
   "file_extension": ".py",
   "mimetype": "text/x-python",
   "name": "python",
   "nbconvert_exporter": "python",
   "pygments_lexer": "ipython3",
   "version": "3.10.12"
  }
 },
 "nbformat": 4,
 "nbformat_minor": 2
}
