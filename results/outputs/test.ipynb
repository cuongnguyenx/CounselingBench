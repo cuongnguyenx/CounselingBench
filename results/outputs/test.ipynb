{
 "cells": [
  {
   "cell_type": "code",
   "execution_count": 3,
   "metadata": {},
   "outputs": [],
   "source": [
    "import pandas as pd"
   ]
  },
  {
   "cell_type": "code",
   "execution_count": 8,
   "metadata": {},
   "outputs": [
    {
     "data": {
      "text/plain": [
       "0                    Therefore, the correct answer is (B)\n",
       "1        Therefore, the correct answer is (D) What kin...\n",
       "2                                                \\n\\n\\n\\n\n",
       "3                Therefore, the correct answer is (C)\\n\\n\n",
       "4                    Therefore, the correct answer is (C)\n",
       "                              ...                        \n",
       "1607                 Therefore, the correct answer is (C)\n",
       "1608                                      (B)\\n\\n\\n\\n\\n\\n\n",
       "1609    \\nTherefore, the correct answer is (B)\\n\\n\\n\\n...\n",
       "1610     Therefore, the correct answer is (B) Cognitiv...\n",
       "1611     Therefore, the correct answer is (D) A holist...\n",
       "Name: raw_pred, Length: 1612, dtype: object"
      ]
     },
     "execution_count": 8,
     "metadata": {},
     "output_type": "execute_result"
    }
   ],
   "source": [
    "df = pd.read_csv('./MentaLLaMA-chat-13B_few-shot-cot_None_3.csv')\n",
    "df['raw_pred']"
   ]
  },
  {
   "cell_type": "code",
   "execution_count": null,
   "metadata": {},
   "outputs": [],
   "source": []
  }
 ],
 "metadata": {
  "kernelspec": {
   "display_name": "Python 3",
   "language": "python",
   "name": "python3"
  },
  "language_info": {
   "codemirror_mode": {
    "name": "ipython",
    "version": 3
   },
   "file_extension": ".py",
   "mimetype": "text/x-python",
   "name": "python",
   "nbconvert_exporter": "python",
   "pygments_lexer": "ipython3",
   "version": "3.10.12"
  }
 },
 "nbformat": 4,
 "nbformat_minor": 2
}
