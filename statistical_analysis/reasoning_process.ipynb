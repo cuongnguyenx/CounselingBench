{
 "cells": [
  {
   "cell_type": "code",
   "execution_count": 1,
   "metadata": {},
   "outputs": [],
   "source": [
    "import pandas as pd"
   ]
  },
  {
   "cell_type": "code",
   "execution_count": 2,
   "metadata": {},
   "outputs": [],
   "source": [
    "df = pd.read_csv('./reasoning_table.csv')"
   ]
  },
  {
   "cell_type": "code",
   "execution_count": 4,
   "metadata": {},
   "outputs": [
    {
     "data": {
      "text/plain": [
       "Index(['cosine_similarity', 'length_difference', 'length_prediction',\n",
       "       'more_comprehensive', 'faithfulness', 'informativeness_step',\n",
       "       'reasoning_alignment', 'repetition_step', 'redundancy',\n",
       "       'semantic_coverage_step', 'missing_step', 'external_hallucination',\n",
       "       'discourse_representation', 'competency', 'model_name'],\n",
       "      dtype='object')"
      ]
     },
     "execution_count": 4,
     "metadata": {},
     "output_type": "execute_result"
    }
   ],
   "source": [
    "df.columns"
   ]
  },
  {
   "cell_type": "code",
   "execution_count": null,
   "metadata": {},
   "outputs": [],
   "source": [
    "df = df[['model_name', 'competency', 'cosine_similarity', 'length_difference', 'length_prediction',\n",
    "       'more_comprehensive', 'faithfulness', 'informativeness_step',\n",
    "       'reasoning_alignment', 'repetition_step', 'redundancy',\n",
    "       'semantic_coverage_step', 'missing_step', 'external_hallucination',\n",
    "       'discourse_representation']]"
   ]
  }
 ],
 "metadata": {
  "kernelspec": {
   "display_name": "Python 3",
   "language": "python",
   "name": "python3"
  },
  "language_info": {
   "codemirror_mode": {
    "name": "ipython",
    "version": 3
   },
   "file_extension": ".py",
   "mimetype": "text/x-python",
   "name": "python",
   "nbconvert_exporter": "python",
   "pygments_lexer": "ipython3",
   "version": "3.10.12"
  }
 },
 "nbformat": 4,
 "nbformat_minor": 2
}
